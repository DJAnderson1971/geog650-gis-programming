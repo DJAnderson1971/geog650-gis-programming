{
 "cells": [
  {
   "cell_type": "code",
   "execution_count": 10,
   "metadata": {},
   "outputs": [
    {
     "name": "stdout",
     "output_type": "stream",
     "text": [
      "arcpy has loaded properly.\n",
      "2856.9016113281 is the base raster maximum for DEM_elkhorn.tif\n",
      "2174.0673828125 is the base raster minimum for DEM_elkhorn.tif\n",
      "-3.4028230607370965e+38 is the No Data value for DEM_elkhorn.tif\n",
      "62886120 bytes is the uncompressed size of DEM_elkhorn.tif\n"
     ]
    }
   ],
   "source": [
    "# Raster Analysis\n",
    "# This script is used to model a peregrine falcon habitat within a park to find areas that can be preserved.\n",
    "\n",
    "# Import Libraries and generate user output when each import is complete\n",
    "import arcpy\n",
    "print(\"arcpy has loaded properly.\")\n",
    "\n",
    "# Set up geoprocessing environment\n",
    "arcpy.env.workspace = r\"C:\\EsriTraining\\PythonScriptsRaster\\Data\"\n",
    "\n",
    "# Set the Base Raster Image\n",
    "base_raster = arcpy.sa.Raster('DEM_elkhorn.tif')\n",
    "\n",
    "# Access Raster Object properties\n",
    "base_raster.maximum\n",
    "print(base_raster.maximum, \"is the base raster maximum for\", base_raster)\n",
    "base_raster.minimum\n",
    "print(base_raster.minimum, \"is the base raster minimum for\", base_raster)\n",
    "base_raster.noDataValue\n",
    "print(base_raster.noDataValue, \"is the No Data value for\", base_raster)\n",
    "base_raster.uncompressedSize\n",
    "print(base_raster.uncompressedSize, \"bytes is the uncompressed size of\", base_raster)\n",
    "\n",
    "# Perform Raster Analysis\n",
    "# Create a raster object that represents slope\n",
    "slope_raster = arcpy.sa.Slope(base_raster, \"DEGREE\")\n",
    "\n",
    "# Identify slopes steeper than 40 degrees\n",
    "gThan40 = slope_raster > 40\n",
    "\n",
    "# Identify areas that are 160 feet above the mean elevation as cliffs\n",
    "cliff = base_raster - base_raster.mean\n",
    "cliff_present = arcpy.sa.GreaterThan(cliff, 160)\n",
    "\n",
    "# Identify habitat areas for perigrene falcons\n",
    "falcon_habitat = gThan40 & cliff_present\n",
    "\n",
    "# Save the result and write it to a new raster\n",
    "arcpy.env.overwriteOutput=True\n",
    "falcon_habitat.save(r'C:\\EsriTraining\\PythonScriptsRaster\\Data\\HabitatOutput.tif')"
   ]
  }
 ],
 "metadata": {
  "kernelspec": {
   "display_name": "geo",
   "language": "python",
   "name": "python3"
  },
  "language_info": {
   "codemirror_mode": {
    "name": "ipython",
    "version": 3
   },
   "file_extension": ".py",
   "mimetype": "text/x-python",
   "name": "python",
   "nbconvert_exporter": "python",
   "pygments_lexer": "ipython3",
   "version": "3.11.10"
  }
 },
 "nbformat": 4,
 "nbformat_minor": 2
}
