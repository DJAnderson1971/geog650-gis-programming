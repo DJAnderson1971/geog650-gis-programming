{
 "cells": [
  {
   "cell_type": "code",
   "execution_count": 2,
   "metadata": {},
   "outputs": [
    {
     "name": "stdout",
     "output_type": "stream",
     "text": [
      "arcpy has loaded properly.\n"
     ]
    },
    {
     "data": {
      "text/html": [
       "<div class='gpresult'><h2 class='msg-title'>Messages</h2><div id='messages'>Start Time: Saturday, February 8, 2025 4:24:46 PM<br>Succeeded at Saturday, February 8, 2025 4:24:47 PM (Elapsed Time: 1.10 seconds)<br></div><div id = 'default' /></div></div>"
      ],
      "text/plain": [
       "<Result 'C:\\\\EsriTraining\\\\PythonGP\\\\Data\\\\SanJuan.gdb\\\\RoadBuffers'>"
      ]
     },
     "execution_count": 2,
     "metadata": {},
     "output_type": "execute_result"
    }
   ],
   "source": [
    "# Import Libraries and generate user output when each import is complete\n",
    "import arcpy\n",
    "print(\"arcpy has loaded properly.\")\n",
    "\n",
    "# Set up geoprocessing environment\n",
    "arcpy.env.workspace = r\"C:\\EsriTraining\\PythonGP\\Data\\SanJuan.gdb\"\n",
    "arcpy.env.overwriteOutput = True\n",
    "\n",
    "# Set parameters to join the BufferDistance table to the Roads feature class\n",
    "inFeatures = \"Roads\"\n",
    "inField = \"ROUTE_TYPE\"\n",
    "joinTable = \"BufferDistance\"\n",
    "joinField = \"ROUTE_TYPE\"\n",
    "\n",
    "# Join table to feature class\n",
    "arcpy.JoinField_management(inFeatures, inField, joinTable, joinField)\n",
    "\n",
    "# Set parameters used to buffer Roads feature class\n",
    "outBuffers = \"RoadBuffers\"\n",
    "buffField = \"DISTANCE\"\n",
    "\n",
    "# Buffer Roads based on the DISTANCE attribute\n",
    "arcpy.Buffer_analysis(inFeatures, outBuffers, buffField)\n",
    "\n",
    "\n"
   ]
  },
  {
   "cell_type": "code",
   "execution_count": null,
   "metadata": {},
   "outputs": [
    {
     "name": "stdout",
     "output_type": "stream",
     "text": [
      "Polygon\n",
      "NAD_1983_UTM_Zone_13N\n",
      "OBJECTID\n"
     ]
    }
   ],
   "source": [
    "# Describe the properties of the Lakes feature class\n",
    "desc = arcpy.Describe(r\"C:\\EsriTraining\\PythonGP\\Data\\SanJuan.gdb\\Lakes\")\n",
    "print(desc.shapeType)\n",
    "print(desc.spatialReference.Name)\n",
    "\n",
    "# Create and display a list of the fields in the Lakes feature class\n",
    "fieldList = arcpy.ListFields(\"Lakes\")\n",
    "print(fieldList[0].name)\n",
    "\n",
    "# Create an insert cursor for Invasive_plants and add a new field of pulled to the table\n",
    "fields = [\"MAP_ID\", \"TREATMENT\"]\n",
    "rows = arcpy.da.InsertCursor(\"Invasive_plants\", fields)\n",
    "rows.insertRow((36, \"PULLED\"))\n",
    "del rows\n",
    "\n",
    "# Create a list of feature classes in the SanJuan.gdb and make a 1 mile buffer around each\n",
    "# Create the variable fclist and populate it with the feature classes\n",
    "fcList = arcpy.ListFeatureClasses()\n",
    "# Iterate through the list and create the 1 mile buffers around each element\n",
    "for fc in fcList:\n",
    "    bufferName = \"{}_Buffer\".format(fc)\n",
    "    arcpy.Buffer_analysis(fc, bufferName, \"1 MILE\")"
   ]
  }
 ],
 "metadata": {
  "kernelspec": {
   "display_name": "geo",
   "language": "python",
   "name": "python3"
  },
  "language_info": {
   "codemirror_mode": {
    "name": "ipython",
    "version": 3
   },
   "file_extension": ".py",
   "mimetype": "text/x-python",
   "name": "python",
   "nbconvert_exporter": "python",
   "pygments_lexer": "ipython3",
   "version": "3.11.10"
  }
 },
 "nbformat": 4,
 "nbformat_minor": 2
}
